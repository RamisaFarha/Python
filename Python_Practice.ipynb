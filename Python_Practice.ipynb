{
  "nbformat": 4,
  "nbformat_minor": 0,
  "metadata": {
    "colab": {
      "provenance": [],
      "include_colab_link": true
    },
    "kernelspec": {
      "name": "python3",
      "display_name": "Python 3"
    },
    "language_info": {
      "name": "python"
    }
  },
  "cells": [
    {
      "cell_type": "markdown",
      "metadata": {
        "id": "view-in-github",
        "colab_type": "text"
      },
      "source": [
        "<a href=\"https://colab.research.google.com/github/RamisaFarha/Python/blob/main/Python_Practice.ipynb\" target=\"_parent\"><img src=\"https://colab.research.google.com/assets/colab-badge.svg\" alt=\"Open In Colab\"/></a>"
      ]
    },
    {
      "cell_type": "markdown",
      "source": [
        "#**Integer Datatype:**"
      ],
      "metadata": {
        "id": "4OnWuqNJ0_rB"
      }
    },
    {
      "cell_type": "markdown",
      "source": [
        "#**Arithmatic** **Operators**:\n",
        "addition +=\n",
        "substraction -=\n",
        "multiplication *=\n",
        "division /=\n",
        "floor division //=\n",
        "exponenet **=\n",
        "modulus %=\n",
        "\n"
      ],
      "metadata": {
        "id": "sOGOW_iwsZ7X"
      }
    },
    {
      "cell_type": "code",
      "execution_count": null,
      "metadata": {
        "colab": {
          "base_uri": "https://localhost:8080/"
        },
        "id": "j7lIZ6MyoRdW",
        "outputId": "8bd15eef-edf7-4ce5-95b3-63ddb6613cc7"
      },
      "outputs": [
        {
          "output_type": "stream",
          "name": "stdout",
          "text": [
            "2\n"
          ]
        }
      ],
      "source": [
        "num = 1\n",
        "num += 1\n",
        "print(num)"
      ]
    },
    {
      "cell_type": "code",
      "source": [
        "print(abs(-4))"
      ],
      "metadata": {
        "colab": {
          "base_uri": "https://localhost:8080/"
        },
        "id": "fd0OQ_iprkoZ",
        "outputId": "1b49f526-a222-4add-f5a7-21c691b4e142"
      },
      "execution_count": null,
      "outputs": [
        {
          "output_type": "stream",
          "name": "stdout",
          "text": [
            "4\n"
          ]
        }
      ]
    },
    {
      "cell_type": "code",
      "source": [
        "print(round(3.78888))\n",
        "print (round(3.66677,2))"
      ],
      "metadata": {
        "colab": {
          "base_uri": "https://localhost:8080/"
        },
        "id": "riHqBaMrr8en",
        "outputId": "a0db989f-7e8f-4c4b-95c0-6d87f7d7eb83"
      },
      "execution_count": null,
      "outputs": [
        {
          "output_type": "stream",
          "name": "stdout",
          "text": [
            "4\n",
            "3.67\n"
          ]
        }
      ]
    },
    {
      "cell_type": "code",
      "source": [
        "num = 15\n",
        "num %= 5\n",
        "print (num)"
      ],
      "metadata": {
        "colab": {
          "base_uri": "https://localhost:8080/"
        },
        "id": "Leq9FaexsCI3",
        "outputId": "3f50b925-cefb-4b3b-c308-728da6d62139"
      },
      "execution_count": null,
      "outputs": [
        {
          "output_type": "stream",
          "name": "stdout",
          "text": [
            "0\n"
          ]
        }
      ]
    },
    {
      "cell_type": "markdown",
      "source": [
        "#**Comparisons**:\n",
        "equal ==\n",
        "not equal !=\n",
        "greater or equal >=\n",
        "greater >\n",
        "less <\n",
        "less or equal <=\n"
      ],
      "metadata": {
        "id": "p1Mv6R5wuEBP"
      }
    },
    {
      "cell_type": "code",
      "source": [
        "num_1 = 5\n",
        "num_2 = 10\n",
        "print (num_1 == num_2)\n",
        "print (num_1 != num_2)\n",
        "print (num_1 >= num_2)\n",
        "print (num_1 <= num_2)\n",
        "print (num_1 < num_2)"
      ],
      "metadata": {
        "colab": {
          "base_uri": "https://localhost:8080/"
        },
        "id": "017LcsClvA9W",
        "outputId": "550be5e8-2861-4e34-a573-3cb0d8ef1e22"
      },
      "execution_count": null,
      "outputs": [
        {
          "output_type": "stream",
          "name": "stdout",
          "text": [
            "False\n",
            "True\n",
            "False\n",
            "True\n",
            "True\n"
          ]
        }
      ]
    },
    {
      "cell_type": "code",
      "source": [
        "#string to int\n",
        "num1 = '360'\n",
        "num2 = '120'\n",
        "num1 = int (num1)\n",
        "num2 = int (num2)\n",
        "print(num1+num2)"
      ],
      "metadata": {
        "colab": {
          "base_uri": "https://localhost:8080/"
        },
        "id": "FoOrVfKU0B46",
        "outputId": "afbff5e2-8c16-4d89-8659-c306408634ee"
      },
      "execution_count": null,
      "outputs": [
        {
          "output_type": "stream",
          "name": "stdout",
          "text": [
            "480\n"
          ]
        }
      ]
    },
    {
      "cell_type": "markdown",
      "source": [
        "#**String Datatype:**"
      ],
      "metadata": {
        "id": "cr0eOhIm0ucZ"
      }
    },
    {
      "cell_type": "code",
      "source": [
        "#Printing String\n",
        "text = 'Hello World'\n",
        "print (text)\n",
        "text1 = \"Hello my name's Ramisa\"\n",
        "print(text1)"
      ],
      "metadata": {
        "colab": {
          "base_uri": "https://localhost:8080/"
        },
        "id": "xCqM4wvI1FtA",
        "outputId": "821ea301-d286-460b-cd2b-bd4aed691a0a"
      },
      "execution_count": null,
      "outputs": [
        {
          "output_type": "stream",
          "name": "stdout",
          "text": [
            "Hello World\n",
            "Hello my name's Ramisa\n"
          ]
        }
      ]
    },
    {
      "cell_type": "code",
      "source": [
        "#Length function\n",
        "text = 'Hello World'\n",
        "print (len(text))"
      ],
      "metadata": {
        "colab": {
          "base_uri": "https://localhost:8080/"
        },
        "id": "lF0I3TZZ2KCJ",
        "outputId": "cc382ff4-9005-4af2-d70d-c52c76b230f1"
      },
      "execution_count": null,
      "outputs": [
        {
          "output_type": "stream",
          "name": "stdout",
          "text": [
            "11\n"
          ]
        }
      ]
    },
    {
      "cell_type": "code",
      "source": [
        "#Print one character using index\n",
        "text = 'Hello World'\n",
        "print (text[4])"
      ],
      "metadata": {
        "colab": {
          "base_uri": "https://localhost:8080/"
        },
        "id": "dc6au8pT2yrh",
        "outputId": "6c34a3ac-7e2e-4568-b632-addcdd642c13"
      },
      "execution_count": null,
      "outputs": [
        {
          "output_type": "stream",
          "name": "stdout",
          "text": [
            "o\n"
          ]
        }
      ]
    },
    {
      "cell_type": "code",
      "source": [
        "#Slicing using index\n",
        "text = 'Hello World'\n",
        "print (text[0:5])\n",
        "print (text[:4])\n",
        "print (text[6:])\n",
        "print (text[1:4])\n",
        "print (text[:-3])"
      ],
      "metadata": {
        "colab": {
          "base_uri": "https://localhost:8080/"
        },
        "id": "KvhTThKn3KoW",
        "outputId": "575f1f01-4ae8-496f-b731-de8055241e3d"
      },
      "execution_count": null,
      "outputs": [
        {
          "output_type": "stream",
          "name": "stdout",
          "text": [
            "Hello\n",
            "Hell\n",
            "World\n",
            "ell\n",
            "Hello Wo\n"
          ]
        }
      ]
    },
    {
      "cell_type": "code",
      "source": [
        "#Adding/Concatenating\n",
        "x = 'RAMISA' +' '+ 'FARHA'\n",
        "print (x)\n",
        "\n",
        "y = ['Ramisa', 'Farha'] + ['MAAHI']\n",
        "print (y)"
      ],
      "metadata": {
        "colab": {
          "base_uri": "https://localhost:8080/"
        },
        "id": "tWpXP3Mn7I2N",
        "outputId": "39ffb608-790d-4e2c-b506-5ff9bc3061de"
      },
      "execution_count": null,
      "outputs": [
        {
          "output_type": "stream",
          "name": "stdout",
          "text": [
            "RAMISA FARHA\n",
            "['Ramisa', 'Farha', 'MAAHI']\n"
          ]
        }
      ]
    },
    {
      "cell_type": "code",
      "source": [
        "#Multiplying\n",
        "z = 'RAMISA'*3\n",
        "print (z)"
      ],
      "metadata": {
        "colab": {
          "base_uri": "https://localhost:8080/"
        },
        "id": "V1F9ccdp8QYU",
        "outputId": "7f418359-a891-4699-e3ba-528f501a8b3a"
      },
      "execution_count": null,
      "outputs": [
        {
          "output_type": "stream",
          "name": "stdout",
          "text": [
            "RAMISARAMISARAMISA\n"
          ]
        }
      ]
    },
    {
      "cell_type": "code",
      "source": [
        "#Upper case Lower case\n",
        "message = 'Ramisa Farha'\n",
        "print (message.lower())\n",
        "print (message.upper())"
      ],
      "metadata": {
        "colab": {
          "base_uri": "https://localhost:8080/"
        },
        "id": "_V7eRPq-82xT",
        "outputId": "a13c7387-ba4a-4996-ae2c-8b0564387088"
      },
      "execution_count": null,
      "outputs": [
        {
          "output_type": "stream",
          "name": "stdout",
          "text": [
            "ramisa farha\n",
            "RAMISA FARHA\n"
          ]
        }
      ]
    },
    {
      "cell_type": "code",
      "source": [
        "#Count method takes a string as an argument\n",
        "text = 'Hello , Welcome to my code'\n",
        "print (text.count('Hello'))\n",
        "print (text.count('o'))"
      ],
      "metadata": {
        "colab": {
          "base_uri": "https://localhost:8080/"
        },
        "id": "Uxj9HaPl9aBr",
        "outputId": "e1d0c1f3-77e2-4e9e-b33e-ea3acdd76cad"
      },
      "execution_count": null,
      "outputs": [
        {
          "output_type": "stream",
          "name": "stdout",
          "text": [
            "1\n",
            "4\n"
          ]
        }
      ]
    },
    {
      "cell_type": "code",
      "source": [
        "#Find the index\n",
        "text = 'Hello , Welcome to my code'\n",
        "print (text.find('code'))\n",
        "#If cannot find the index return -1\n",
        "print (text.find ('Ramisa'))"
      ],
      "metadata": {
        "colab": {
          "base_uri": "https://localhost:8080/"
        },
        "id": "gvQJnxYY-FbL",
        "outputId": "7b131643-3bf7-4a7e-d912-f927a2f8380f"
      },
      "execution_count": null,
      "outputs": [
        {
          "output_type": "stream",
          "name": "stdout",
          "text": [
            "22\n",
            "-1\n"
          ]
        }
      ]
    },
    {
      "cell_type": "code",
      "source": [
        "#Replace\n",
        "text = 'Hello, Maahi'\n",
        "new_text = text.replace ('Maahi', 'Ramisa')\n",
        "print (new_text)"
      ],
      "metadata": {
        "colab": {
          "base_uri": "https://localhost:8080/"
        },
        "id": "Xbs2KHvy-_Rr",
        "outputId": "bb756a2b-8e81-4656-9de4-dc70c677641d"
      },
      "execution_count": null,
      "outputs": [
        {
          "output_type": "stream",
          "name": "stdout",
          "text": [
            "Hello, Ramisa\n"
          ]
        }
      ]
    },
    {
      "cell_type": "code",
      "source": [
        "#Formatted String\n",
        "greeting = 'Hello'\n",
        "name = 'Maahi'\n",
        "text = greeting + ', ' + name\n",
        "print (text)"
      ],
      "metadata": {
        "colab": {
          "base_uri": "https://localhost:8080/"
        },
        "id": "iu4MYmbi_XM4",
        "outputId": "5b978239-23ad-4e50-fdaf-bab05b7bbb3d"
      },
      "execution_count": null,
      "outputs": [
        {
          "output_type": "stream",
          "name": "stdout",
          "text": [
            "Hello, Maahi\n"
          ]
        }
      ]
    },
    {
      "cell_type": "code",
      "source": [
        "greeting = 'Hello'\n",
        "name = 'Maahi'\n",
        "text = '{},{}. Welcome!'.format(greeting , name)\n",
        "print (text)\n",
        "text = f'{greeting},{name}. Welcome!'\n",
        "print (text)"
      ],
      "metadata": {
        "colab": {
          "base_uri": "https://localhost:8080/"
        },
        "id": "jfYsCc2qHECd",
        "outputId": "51394d82-d192-46c3-c295-c21aadb2c166"
      },
      "execution_count": null,
      "outputs": [
        {
          "output_type": "stream",
          "name": "stdout",
          "text": [
            "Hello,Maahi. Welcome!\n",
            "Hello,Maahi. Welcome!\n"
          ]
        }
      ]
    },
    {
      "cell_type": "code",
      "source": [
        "greeting = 'Hello'\n",
        "name = 'Maahi'\n",
        "print (dir(name))"
      ],
      "metadata": {
        "colab": {
          "base_uri": "https://localhost:8080/"
        },
        "id": "Wm5KmOjbHzPs",
        "outputId": "9be68b55-004f-4bbf-ca2d-2faf3edf5ea2"
      },
      "execution_count": null,
      "outputs": [
        {
          "output_type": "stream",
          "name": "stdout",
          "text": [
            "['__add__', '__class__', '__contains__', '__delattr__', '__dir__', '__doc__', '__eq__', '__format__', '__ge__', '__getattribute__', '__getitem__', '__getnewargs__', '__gt__', '__hash__', '__init__', '__init_subclass__', '__iter__', '__le__', '__len__', '__lt__', '__mod__', '__mul__', '__ne__', '__new__', '__reduce__', '__reduce_ex__', '__repr__', '__rmod__', '__rmul__', '__setattr__', '__sizeof__', '__str__', '__subclasshook__', 'capitalize', 'casefold', 'center', 'count', 'encode', 'endswith', 'expandtabs', 'find', 'format', 'format_map', 'index', 'isalnum', 'isalpha', 'isascii', 'isdecimal', 'isdigit', 'isidentifier', 'islower', 'isnumeric', 'isprintable', 'isspace', 'istitle', 'isupper', 'join', 'ljust', 'lower', 'lstrip', 'maketrans', 'partition', 'removeprefix', 'removesuffix', 'replace', 'rfind', 'rindex', 'rjust', 'rpartition', 'rsplit', 'rstrip', 'split', 'splitlines', 'startswith', 'strip', 'swapcase', 'title', 'translate', 'upper', 'zfill']\n"
          ]
        }
      ]
    },
    {
      "cell_type": "code",
      "source": [
        "#Method description\n",
        "greeting = 'Hello'\n",
        "name = 'Maahi'\n",
        "print(help(str))"
      ],
      "metadata": {
        "colab": {
          "base_uri": "https://localhost:8080/"
        },
        "id": "lWNW7CuRH5fV",
        "outputId": "e06745a7-82c1-4355-8104-1d4b9e9d6363"
      },
      "execution_count": null,
      "outputs": [
        {
          "output_type": "stream",
          "name": "stdout",
          "text": [
            "Help on class str in module builtins:\n",
            "\n",
            "class str(object)\n",
            " |  str(object='') -> str\n",
            " |  str(bytes_or_buffer[, encoding[, errors]]) -> str\n",
            " |  \n",
            " |  Create a new string object from the given object. If encoding or\n",
            " |  errors is specified, then the object must expose a data buffer\n",
            " |  that will be decoded using the given encoding and error handler.\n",
            " |  Otherwise, returns the result of object.__str__() (if defined)\n",
            " |  or repr(object).\n",
            " |  encoding defaults to sys.getdefaultencoding().\n",
            " |  errors defaults to 'strict'.\n",
            " |  \n",
            " |  Methods defined here:\n",
            " |  \n",
            " |  __add__(self, value, /)\n",
            " |      Return self+value.\n",
            " |  \n",
            " |  __contains__(self, key, /)\n",
            " |      Return key in self.\n",
            " |  \n",
            " |  __eq__(self, value, /)\n",
            " |      Return self==value.\n",
            " |  \n",
            " |  __format__(self, format_spec, /)\n",
            " |      Return a formatted version of the string as described by format_spec.\n",
            " |  \n",
            " |  __ge__(self, value, /)\n",
            " |      Return self>=value.\n",
            " |  \n",
            " |  __getattribute__(self, name, /)\n",
            " |      Return getattr(self, name).\n",
            " |  \n",
            " |  __getitem__(self, key, /)\n",
            " |      Return self[key].\n",
            " |  \n",
            " |  __getnewargs__(...)\n",
            " |  \n",
            " |  __gt__(self, value, /)\n",
            " |      Return self>value.\n",
            " |  \n",
            " |  __hash__(self, /)\n",
            " |      Return hash(self).\n",
            " |  \n",
            " |  __iter__(self, /)\n",
            " |      Implement iter(self).\n",
            " |  \n",
            " |  __le__(self, value, /)\n",
            " |      Return self<=value.\n",
            " |  \n",
            " |  __len__(self, /)\n",
            " |      Return len(self).\n",
            " |  \n",
            " |  __lt__(self, value, /)\n",
            " |      Return self<value.\n",
            " |  \n",
            " |  __mod__(self, value, /)\n",
            " |      Return self%value.\n",
            " |  \n",
            " |  __mul__(self, value, /)\n",
            " |      Return self*value.\n",
            " |  \n",
            " |  __ne__(self, value, /)\n",
            " |      Return self!=value.\n",
            " |  \n",
            " |  __repr__(self, /)\n",
            " |      Return repr(self).\n",
            " |  \n",
            " |  __rmod__(self, value, /)\n",
            " |      Return value%self.\n",
            " |  \n",
            " |  __rmul__(self, value, /)\n",
            " |      Return value*self.\n",
            " |  \n",
            " |  __sizeof__(self, /)\n",
            " |      Return the size of the string in memory, in bytes.\n",
            " |  \n",
            " |  __str__(self, /)\n",
            " |      Return str(self).\n",
            " |  \n",
            " |  capitalize(self, /)\n",
            " |      Return a capitalized version of the string.\n",
            " |      \n",
            " |      More specifically, make the first character have upper case and the rest lower\n",
            " |      case.\n",
            " |  \n",
            " |  casefold(self, /)\n",
            " |      Return a version of the string suitable for caseless comparisons.\n",
            " |  \n",
            " |  center(self, width, fillchar=' ', /)\n",
            " |      Return a centered string of length width.\n",
            " |      \n",
            " |      Padding is done using the specified fill character (default is a space).\n",
            " |  \n",
            " |  count(...)\n",
            " |      S.count(sub[, start[, end]]) -> int\n",
            " |      \n",
            " |      Return the number of non-overlapping occurrences of substring sub in\n",
            " |      string S[start:end].  Optional arguments start and end are\n",
            " |      interpreted as in slice notation.\n",
            " |  \n",
            " |  encode(self, /, encoding='utf-8', errors='strict')\n",
            " |      Encode the string using the codec registered for encoding.\n",
            " |      \n",
            " |      encoding\n",
            " |        The encoding in which to encode the string.\n",
            " |      errors\n",
            " |        The error handling scheme to use for encoding errors.\n",
            " |        The default is 'strict' meaning that encoding errors raise a\n",
            " |        UnicodeEncodeError.  Other possible values are 'ignore', 'replace' and\n",
            " |        'xmlcharrefreplace' as well as any other name registered with\n",
            " |        codecs.register_error that can handle UnicodeEncodeErrors.\n",
            " |  \n",
            " |  endswith(...)\n",
            " |      S.endswith(suffix[, start[, end]]) -> bool\n",
            " |      \n",
            " |      Return True if S ends with the specified suffix, False otherwise.\n",
            " |      With optional start, test S beginning at that position.\n",
            " |      With optional end, stop comparing S at that position.\n",
            " |      suffix can also be a tuple of strings to try.\n",
            " |  \n",
            " |  expandtabs(self, /, tabsize=8)\n",
            " |      Return a copy where all tab characters are expanded using spaces.\n",
            " |      \n",
            " |      If tabsize is not given, a tab size of 8 characters is assumed.\n",
            " |  \n",
            " |  find(...)\n",
            " |      S.find(sub[, start[, end]]) -> int\n",
            " |      \n",
            " |      Return the lowest index in S where substring sub is found,\n",
            " |      such that sub is contained within S[start:end].  Optional\n",
            " |      arguments start and end are interpreted as in slice notation.\n",
            " |      \n",
            " |      Return -1 on failure.\n",
            " |  \n",
            " |  format(...)\n",
            " |      S.format(*args, **kwargs) -> str\n",
            " |      \n",
            " |      Return a formatted version of S, using substitutions from args and kwargs.\n",
            " |      The substitutions are identified by braces ('{' and '}').\n",
            " |  \n",
            " |  format_map(...)\n",
            " |      S.format_map(mapping) -> str\n",
            " |      \n",
            " |      Return a formatted version of S, using substitutions from mapping.\n",
            " |      The substitutions are identified by braces ('{' and '}').\n",
            " |  \n",
            " |  index(...)\n",
            " |      S.index(sub[, start[, end]]) -> int\n",
            " |      \n",
            " |      Return the lowest index in S where substring sub is found,\n",
            " |      such that sub is contained within S[start:end].  Optional\n",
            " |      arguments start and end are interpreted as in slice notation.\n",
            " |      \n",
            " |      Raises ValueError when the substring is not found.\n",
            " |  \n",
            " |  isalnum(self, /)\n",
            " |      Return True if the string is an alpha-numeric string, False otherwise.\n",
            " |      \n",
            " |      A string is alpha-numeric if all characters in the string are alpha-numeric and\n",
            " |      there is at least one character in the string.\n",
            " |  \n",
            " |  isalpha(self, /)\n",
            " |      Return True if the string is an alphabetic string, False otherwise.\n",
            " |      \n",
            " |      A string is alphabetic if all characters in the string are alphabetic and there\n",
            " |      is at least one character in the string.\n",
            " |  \n",
            " |  isascii(self, /)\n",
            " |      Return True if all characters in the string are ASCII, False otherwise.\n",
            " |      \n",
            " |      ASCII characters have code points in the range U+0000-U+007F.\n",
            " |      Empty string is ASCII too.\n",
            " |  \n",
            " |  isdecimal(self, /)\n",
            " |      Return True if the string is a decimal string, False otherwise.\n",
            " |      \n",
            " |      A string is a decimal string if all characters in the string are decimal and\n",
            " |      there is at least one character in the string.\n",
            " |  \n",
            " |  isdigit(self, /)\n",
            " |      Return True if the string is a digit string, False otherwise.\n",
            " |      \n",
            " |      A string is a digit string if all characters in the string are digits and there\n",
            " |      is at least one character in the string.\n",
            " |  \n",
            " |  isidentifier(self, /)\n",
            " |      Return True if the string is a valid Python identifier, False otherwise.\n",
            " |      \n",
            " |      Call keyword.iskeyword(s) to test whether string s is a reserved identifier,\n",
            " |      such as \"def\" or \"class\".\n",
            " |  \n",
            " |  islower(self, /)\n",
            " |      Return True if the string is a lowercase string, False otherwise.\n",
            " |      \n",
            " |      A string is lowercase if all cased characters in the string are lowercase and\n",
            " |      there is at least one cased character in the string.\n",
            " |  \n",
            " |  isnumeric(self, /)\n",
            " |      Return True if the string is a numeric string, False otherwise.\n",
            " |      \n",
            " |      A string is numeric if all characters in the string are numeric and there is at\n",
            " |      least one character in the string.\n",
            " |  \n",
            " |  isprintable(self, /)\n",
            " |      Return True if the string is printable, False otherwise.\n",
            " |      \n",
            " |      A string is printable if all of its characters are considered printable in\n",
            " |      repr() or if it is empty.\n",
            " |  \n",
            " |  isspace(self, /)\n",
            " |      Return True if the string is a whitespace string, False otherwise.\n",
            " |      \n",
            " |      A string is whitespace if all characters in the string are whitespace and there\n",
            " |      is at least one character in the string.\n",
            " |  \n",
            " |  istitle(self, /)\n",
            " |      Return True if the string is a title-cased string, False otherwise.\n",
            " |      \n",
            " |      In a title-cased string, upper- and title-case characters may only\n",
            " |      follow uncased characters and lowercase characters only cased ones.\n",
            " |  \n",
            " |  isupper(self, /)\n",
            " |      Return True if the string is an uppercase string, False otherwise.\n",
            " |      \n",
            " |      A string is uppercase if all cased characters in the string are uppercase and\n",
            " |      there is at least one cased character in the string.\n",
            " |  \n",
            " |  join(self, iterable, /)\n",
            " |      Concatenate any number of strings.\n",
            " |      \n",
            " |      The string whose method is called is inserted in between each given string.\n",
            " |      The result is returned as a new string.\n",
            " |      \n",
            " |      Example: '.'.join(['ab', 'pq', 'rs']) -> 'ab.pq.rs'\n",
            " |  \n",
            " |  ljust(self, width, fillchar=' ', /)\n",
            " |      Return a left-justified string of length width.\n",
            " |      \n",
            " |      Padding is done using the specified fill character (default is a space).\n",
            " |  \n",
            " |  lower(self, /)\n",
            " |      Return a copy of the string converted to lowercase.\n",
            " |  \n",
            " |  lstrip(self, chars=None, /)\n",
            " |      Return a copy of the string with leading whitespace removed.\n",
            " |      \n",
            " |      If chars is given and not None, remove characters in chars instead.\n",
            " |  \n",
            " |  partition(self, sep, /)\n",
            " |      Partition the string into three parts using the given separator.\n",
            " |      \n",
            " |      This will search for the separator in the string.  If the separator is found,\n",
            " |      returns a 3-tuple containing the part before the separator, the separator\n",
            " |      itself, and the part after it.\n",
            " |      \n",
            " |      If the separator is not found, returns a 3-tuple containing the original string\n",
            " |      and two empty strings.\n",
            " |  \n",
            " |  removeprefix(self, prefix, /)\n",
            " |      Return a str with the given prefix string removed if present.\n",
            " |      \n",
            " |      If the string starts with the prefix string, return string[len(prefix):].\n",
            " |      Otherwise, return a copy of the original string.\n",
            " |  \n",
            " |  removesuffix(self, suffix, /)\n",
            " |      Return a str with the given suffix string removed if present.\n",
            " |      \n",
            " |      If the string ends with the suffix string and that suffix is not empty,\n",
            " |      return string[:-len(suffix)]. Otherwise, return a copy of the original\n",
            " |      string.\n",
            " |  \n",
            " |  replace(self, old, new, count=-1, /)\n",
            " |      Return a copy with all occurrences of substring old replaced by new.\n",
            " |      \n",
            " |        count\n",
            " |          Maximum number of occurrences to replace.\n",
            " |          -1 (the default value) means replace all occurrences.\n",
            " |      \n",
            " |      If the optional argument count is given, only the first count occurrences are\n",
            " |      replaced.\n",
            " |  \n",
            " |  rfind(...)\n",
            " |      S.rfind(sub[, start[, end]]) -> int\n",
            " |      \n",
            " |      Return the highest index in S where substring sub is found,\n",
            " |      such that sub is contained within S[start:end].  Optional\n",
            " |      arguments start and end are interpreted as in slice notation.\n",
            " |      \n",
            " |      Return -1 on failure.\n",
            " |  \n",
            " |  rindex(...)\n",
            " |      S.rindex(sub[, start[, end]]) -> int\n",
            " |      \n",
            " |      Return the highest index in S where substring sub is found,\n",
            " |      such that sub is contained within S[start:end].  Optional\n",
            " |      arguments start and end are interpreted as in slice notation.\n",
            " |      \n",
            " |      Raises ValueError when the substring is not found.\n",
            " |  \n",
            " |  rjust(self, width, fillchar=' ', /)\n",
            " |      Return a right-justified string of length width.\n",
            " |      \n",
            " |      Padding is done using the specified fill character (default is a space).\n",
            " |  \n",
            " |  rpartition(self, sep, /)\n",
            " |      Partition the string into three parts using the given separator.\n",
            " |      \n",
            " |      This will search for the separator in the string, starting at the end. If\n",
            " |      the separator is found, returns a 3-tuple containing the part before the\n",
            " |      separator, the separator itself, and the part after it.\n",
            " |      \n",
            " |      If the separator is not found, returns a 3-tuple containing two empty strings\n",
            " |      and the original string.\n",
            " |  \n",
            " |  rsplit(self, /, sep=None, maxsplit=-1)\n",
            " |      Return a list of the substrings in the string, using sep as the separator string.\n",
            " |      \n",
            " |        sep\n",
            " |          The separator used to split the string.\n",
            " |      \n",
            " |          When set to None (the default value), will split on any whitespace\n",
            " |          character (including \\\\n \\\\r \\\\t \\\\f and spaces) and will discard\n",
            " |          empty strings from the result.\n",
            " |        maxsplit\n",
            " |          Maximum number of splits (starting from the left).\n",
            " |          -1 (the default value) means no limit.\n",
            " |      \n",
            " |      Splitting starts at the end of the string and works to the front.\n",
            " |  \n",
            " |  rstrip(self, chars=None, /)\n",
            " |      Return a copy of the string with trailing whitespace removed.\n",
            " |      \n",
            " |      If chars is given and not None, remove characters in chars instead.\n",
            " |  \n",
            " |  split(self, /, sep=None, maxsplit=-1)\n",
            " |      Return a list of the substrings in the string, using sep as the separator string.\n",
            " |      \n",
            " |        sep\n",
            " |          The separator used to split the string.\n",
            " |      \n",
            " |          When set to None (the default value), will split on any whitespace\n",
            " |          character (including \\\\n \\\\r \\\\t \\\\f and spaces) and will discard\n",
            " |          empty strings from the result.\n",
            " |        maxsplit\n",
            " |          Maximum number of splits (starting from the left).\n",
            " |          -1 (the default value) means no limit.\n",
            " |      \n",
            " |      Note, str.split() is mainly useful for data that has been intentionally\n",
            " |      delimited.  With natural text that includes punctuation, consider using\n",
            " |      the regular expression module.\n",
            " |  \n",
            " |  splitlines(self, /, keepends=False)\n",
            " |      Return a list of the lines in the string, breaking at line boundaries.\n",
            " |      \n",
            " |      Line breaks are not included in the resulting list unless keepends is given and\n",
            " |      true.\n",
            " |  \n",
            " |  startswith(...)\n",
            " |      S.startswith(prefix[, start[, end]]) -> bool\n",
            " |      \n",
            " |      Return True if S starts with the specified prefix, False otherwise.\n",
            " |      With optional start, test S beginning at that position.\n",
            " |      With optional end, stop comparing S at that position.\n",
            " |      prefix can also be a tuple of strings to try.\n",
            " |  \n",
            " |  strip(self, chars=None, /)\n",
            " |      Return a copy of the string with leading and trailing whitespace removed.\n",
            " |      \n",
            " |      If chars is given and not None, remove characters in chars instead.\n",
            " |  \n",
            " |  swapcase(self, /)\n",
            " |      Convert uppercase characters to lowercase and lowercase characters to uppercase.\n",
            " |  \n",
            " |  title(self, /)\n",
            " |      Return a version of the string where each word is titlecased.\n",
            " |      \n",
            " |      More specifically, words start with uppercased characters and all remaining\n",
            " |      cased characters have lower case.\n",
            " |  \n",
            " |  translate(self, table, /)\n",
            " |      Replace each character in the string using the given translation table.\n",
            " |      \n",
            " |        table\n",
            " |          Translation table, which must be a mapping of Unicode ordinals to\n",
            " |          Unicode ordinals, strings, or None.\n",
            " |      \n",
            " |      The table must implement lookup/indexing via __getitem__, for instance a\n",
            " |      dictionary or list.  If this operation raises LookupError, the character is\n",
            " |      left untouched.  Characters mapped to None are deleted.\n",
            " |  \n",
            " |  upper(self, /)\n",
            " |      Return a copy of the string converted to uppercase.\n",
            " |  \n",
            " |  zfill(self, width, /)\n",
            " |      Pad a numeric string with zeros on the left, to fill a field of the given width.\n",
            " |      \n",
            " |      The string is never truncated.\n",
            " |  \n",
            " |  ----------------------------------------------------------------------\n",
            " |  Static methods defined here:\n",
            " |  \n",
            " |  __new__(*args, **kwargs) from builtins.type\n",
            " |      Create and return a new object.  See help(type) for accurate signature.\n",
            " |  \n",
            " |  maketrans(...)\n",
            " |      Return a translation table usable for str.translate().\n",
            " |      \n",
            " |      If there is only one argument, it must be a dictionary mapping Unicode\n",
            " |      ordinals (integers) or characters to Unicode ordinals, strings or None.\n",
            " |      Character keys will be then converted to ordinals.\n",
            " |      If there are two arguments, they must be strings of equal length, and\n",
            " |      in the resulting dictionary, each character in x will be mapped to the\n",
            " |      character at the same position in y. If there is a third argument, it\n",
            " |      must be a string, whose characters will be mapped to None in the result.\n",
            "\n",
            "None\n"
          ]
        }
      ]
    },
    {
      "cell_type": "markdown",
      "source": [
        "#Lists, Tuples, and Sets:"
      ],
      "metadata": {
        "id": "5XfeLGXCISUS"
      }
    },
    {
      "cell_type": "code",
      "source": [
        "#List\n",
        "courses = ['Bangla','English','Math', 'CompSci']\n",
        "print(courses)\n",
        "print(len(courses))\n",
        "print(courses[3])\n",
        "print(courses[0:2])"
      ],
      "metadata": {
        "colab": {
          "base_uri": "https://localhost:8080/"
        },
        "id": "jNIAxza6IYMS",
        "outputId": "34b755c4-3c39-41cd-b150-6f3c7153902c"
      },
      "execution_count": null,
      "outputs": [
        {
          "output_type": "stream",
          "name": "stdout",
          "text": [
            "['Bangla', 'English', 'Math', 'ComSci']\n",
            "4\n",
            "ComSci\n",
            "['Bangla', 'English']\n"
          ]
        }
      ]
    },
    {
      "cell_type": "code",
      "source": [
        "#Modifying list\n",
        "courses = ['Bangla','English','Math', 'CompSci']\n",
        "courses.append('Art')\n",
        "print(courses)\n",
        "#insert in the index\n",
        "courses.insert(0,'Physics')\n",
        "print(courses)"
      ],
      "metadata": {
        "colab": {
          "base_uri": "https://localhost:8080/"
        },
        "id": "ATS2rvZEKEap",
        "outputId": "d319f20e-5f5a-448a-f0e2-3830bdd0863e"
      },
      "execution_count": null,
      "outputs": [
        {
          "output_type": "stream",
          "name": "stdout",
          "text": [
            "['Bangla', 'English', 'Math', 'ComSci', 'Art']\n",
            "['Physics', 'Bangla', 'English', 'Math', 'ComSci', 'Art']\n"
          ]
        }
      ]
    },
    {
      "cell_type": "code",
      "source": [
        "#List in a list\n",
        "courses = ['Bangla','English','Math', 'CompSci']\n",
        "courses_2 = ['Chemisty','Biology']\n",
        "courses.insert(0, courses_2)\n",
        "print(courses)\n",
        "#Extend method\n",
        "courses = ['Bangla','English','Math', 'CompSci']\n",
        "courses.extend(courses_2)\n",
        "print(courses)"
      ],
      "metadata": {
        "colab": {
          "base_uri": "https://localhost:8080/"
        },
        "id": "UjB6pV_y5y8s",
        "outputId": "6e59ec3f-a01e-489e-c22b-9fd1a266b860"
      },
      "execution_count": null,
      "outputs": [
        {
          "output_type": "stream",
          "name": "stdout",
          "text": [
            "[['Chemisty', 'Biology'], 'Bangla', 'English', 'Math', 'ComSci']\n",
            "['Bangla', 'English', 'Math', 'ComSci', 'Chemisty', 'Biology']\n"
          ]
        }
      ]
    },
    {
      "cell_type": "code",
      "source": [
        "#Remove method\n",
        "courses = ['Bangla','English','Math', 'CompSci']\n",
        "courses.remove('Math')\n",
        "print(courses)\n",
        "#Pop method to remove the last value from the stack\n",
        "courses.pop()\n",
        "print(courses)\n",
        "#Pop can return it's value\n",
        "courses = ['Bangla','English','Math', 'CompSci']\n",
        "popped = courses.pop()\n",
        "print(popped)"
      ],
      "metadata": {
        "colab": {
          "base_uri": "https://localhost:8080/"
        },
        "id": "7kBCthJe6e_s",
        "outputId": "7b12d07c-8381-4a98-9220-4d8b89ba7561"
      },
      "execution_count": null,
      "outputs": [
        {
          "output_type": "stream",
          "name": "stdout",
          "text": [
            "['Bangla', 'English', 'ComSci']\n",
            "['Bangla', 'English']\n",
            "ComSci\n"
          ]
        }
      ]
    },
    {
      "cell_type": "code",
      "source": [
        "#Reverse the list\n",
        "courses = ['Bangla','English','Math', 'CompSci']\n",
        "courses.reverse()\n",
        "print(courses)"
      ],
      "metadata": {
        "colab": {
          "base_uri": "https://localhost:8080/"
        },
        "id": "ChPIUnuIMuKk",
        "outputId": "3c6c6154-8db9-470f-e0f2-545c8c1b53b5"
      },
      "execution_count": null,
      "outputs": [
        {
          "output_type": "stream",
          "name": "stdout",
          "text": [
            "['CompSci', 'Math', 'English', 'Bangla']\n"
          ]
        }
      ]
    },
    {
      "cell_type": "code",
      "source": [
        "#Sorting list\n",
        "courses = ['Bangla','English','Math', 'CompSci', 'Physics', 'Art']\n",
        "courses.sort()\n",
        "print(courses)\n",
        "num = [3,5,8,9,1,5,7,23,90,54]\n",
        "num.sort()\n",
        "print(num)\n",
        "#Reverse the sort\n",
        "num.sort(reverse=True)\n",
        "print(num)\n",
        "#Minimum number\n",
        "print(min(num))\n",
        "#Maximum number\n",
        "print(max(num))\n",
        "#Sum of the numbers\n",
        "print(sum(num))"
      ],
      "metadata": {
        "colab": {
          "base_uri": "https://localhost:8080/"
        },
        "id": "4R6uKOL2NCE1",
        "outputId": "4566588b-6232-4816-92c6-58c836d5118b"
      },
      "execution_count": null,
      "outputs": [
        {
          "output_type": "stream",
          "name": "stdout",
          "text": [
            "['Art', 'Bangla', 'CompSci', 'English', 'Math', 'Physics']\n",
            "[1, 3, 5, 5, 7, 8, 9, 23, 54, 90]\n",
            "[90, 54, 23, 9, 8, 7, 5, 5, 3, 1]\n",
            "1\n",
            "90\n",
            "205\n"
          ]
        }
      ]
    },
    {
      "cell_type": "code",
      "source": [
        "#Sorted without altering the list\n",
        "courses = ['Bangla','English','Math', 'CompSci', 'Physics', 'Art']\n",
        "sorted_courses = sorted(courses)\n",
        "print(sorted_courses)"
      ],
      "metadata": {
        "colab": {
          "base_uri": "https://localhost:8080/"
        },
        "id": "-zVs5lugPoZt",
        "outputId": "b0c5af1d-80be-4b4c-e18f-598963086396"
      },
      "execution_count": null,
      "outputs": [
        {
          "output_type": "stream",
          "name": "stdout",
          "text": [
            "['Art', 'Bangla', 'CompSci', 'English', 'Math', 'Physics']\n"
          ]
        }
      ]
    },
    {
      "cell_type": "code",
      "source": [
        "#Find the index\n",
        "courses = ['Bangla','English','Math', 'CompSci', 'Physics', 'Art']\n",
        "print(courses.index('CompSci'))\n",
        "#Boolean output\n",
        "print('Math' in courses)\n",
        "print('Biology' in courses)"
      ],
      "metadata": {
        "colab": {
          "base_uri": "https://localhost:8080/"
        },
        "id": "NXZlp0SuQe_i",
        "outputId": "1102c55e-fa58-45a9-f428-0ee478d9283a"
      },
      "execution_count": null,
      "outputs": [
        {
          "output_type": "stream",
          "name": "stdout",
          "text": [
            "3\n",
            "True\n",
            "False\n"
          ]
        }
      ]
    },
    {
      "cell_type": "code",
      "source": [
        "#Using For loop\n",
        "courses = ['Bangla','English','Math', 'CompSci', 'Physics', 'Art']\n",
        "for item in courses:\n",
        "  print(item)\n",
        "for course in courses:\n",
        "  print(course)"
      ],
      "metadata": {
        "colab": {
          "base_uri": "https://localhost:8080/"
        },
        "id": "1vvovHAlySuv",
        "outputId": "e4ae5abb-4ae7-4a03-eacf-6b912b5be54b"
      },
      "execution_count": null,
      "outputs": [
        {
          "output_type": "stream",
          "name": "stdout",
          "text": [
            "Bangla\n",
            "English\n",
            "Math\n",
            "CompSci\n",
            "Physics\n",
            "Art\n",
            "Bangla\n",
            "English\n",
            "Math\n",
            "CompSci\n",
            "Physics\n",
            "Art\n"
          ]
        }
      ]
    },
    {
      "cell_type": "code",
      "source": [
        "#Find Index and the value\n",
        "courses = ['Bangla','English','Math', 'CompSci', 'Physics', 'Art']\n",
        "for index, course in enumerate(courses):\n",
        " print(index,course)"
      ],
      "metadata": {
        "colab": {
          "base_uri": "https://localhost:8080/"
        },
        "id": "FbOT0zk216Vd",
        "outputId": "e9b4c244-ac94-44d8-f7e6-d48f6c95c150"
      },
      "execution_count": null,
      "outputs": [
        {
          "output_type": "stream",
          "name": "stdout",
          "text": [
            "0 Bangla\n",
            "1 English\n",
            "2 Math\n",
            "3 CompSci\n",
            "4 Physics\n",
            "5 Art\n"
          ]
        }
      ]
    },
    {
      "cell_type": "code",
      "source": [
        "courses = ['Bangla','English','Math', 'CompSci', 'Physics', 'Art']\n",
        "for index, course in enumerate(courses, start=1):\n",
        "  print(index,course)"
      ],
      "metadata": {
        "colab": {
          "base_uri": "https://localhost:8080/"
        },
        "id": "dkDhX5xQ0Fbm",
        "outputId": "23ec5baa-5bcc-48f3-833f-6cae5b9f7227"
      },
      "execution_count": null,
      "outputs": [
        {
          "output_type": "stream",
          "name": "stdout",
          "text": [
            "1 Bangla\n",
            "2 English\n",
            "3 Math\n",
            "4 CompSci\n",
            "5 Physics\n",
            "6 Art\n"
          ]
        }
      ]
    },
    {
      "cell_type": "code",
      "source": [
        "#Spliting values\n",
        "courses = ['Bangla','English','Math', 'CompSci', 'Physics', 'Art']\n",
        "course_str = ', '.join(courses)\n",
        "print(course_str)\n",
        "course_str = '-'.join(courses)\n",
        "print(course_str)"
      ],
      "metadata": {
        "colab": {
          "base_uri": "https://localhost:8080/"
        },
        "id": "nKKgTKoAD7Cq",
        "outputId": "37ce24e3-9644-42ef-b8af-5039c09e20f2"
      },
      "execution_count": null,
      "outputs": [
        {
          "output_type": "stream",
          "name": "stdout",
          "text": [
            "Bangla, English, Math, CompSci, Physics, Art\n",
            "Bangla-English-Math-CompSci-Physics-Art\n"
          ]
        }
      ]
    },
    {
      "cell_type": "code",
      "source": [
        "courses = ['Bangla', 'English', 'Math', 'CompSci', 'Physics', 'Art']\n",
        "course_str = ' - '.join(courses)\n",
        "new_list = course_str.split(' - ')\n",
        "print(course_str)\n",
        "print(new_list)"
      ],
      "metadata": {
        "colab": {
          "base_uri": "https://localhost:8080/"
        },
        "id": "9rA1ZCQrOFYk",
        "outputId": "40d6c0d6-e9fd-4713-f591-40718dfbc923"
      },
      "execution_count": null,
      "outputs": [
        {
          "output_type": "stream",
          "name": "stdout",
          "text": [
            "Bangla - English - Math - CompSci - Physics - Art\n",
            "['Bangla', 'English', 'Math', 'CompSci', 'Physics', 'Art']\n"
          ]
        }
      ]
    },
    {
      "cell_type": "code",
      "source": [
        "#Tuples (cannot be modified)\n",
        "#mutuable\n",
        "list_1 = ['Bangla', 'English', 'Math', 'CompSci', 'Physics', 'Art']\n",
        "list_2 = list_1\n",
        "print (list_1)\n",
        "print (list_2)\n",
        "list_1[0] = 'Chemistry'\n",
        "print (list_1)\n",
        "print (list_2)"
      ],
      "metadata": {
        "colab": {
          "base_uri": "https://localhost:8080/"
        },
        "id": "lnv0IJH9OQzj",
        "outputId": "0284d128-1767-4412-bd24-7a340dd1224b"
      },
      "execution_count": null,
      "outputs": [
        {
          "output_type": "stream",
          "name": "stdout",
          "text": [
            "['Bangla', 'English', 'Math', 'CompSci', 'Physics', 'Art']\n",
            "['Bangla', 'English', 'Math', 'CompSci', 'Physics', 'Art']\n",
            "['Chemistry', 'English', 'Math', 'CompSci', 'Physics', 'Art']\n",
            "['Chemistry', 'English', 'Math', 'CompSci', 'Physics', 'Art']\n"
          ]
        }
      ]
    },
    {
      "cell_type": "code",
      "source": [
        "#immutable\n",
        "tuple_1 = ['Bangla', 'English', 'Math', 'CompSci', 'Physics', 'Art']\n",
        "tuple_2 = tuple_1\n",
        "print (tuple_1)\n",
        "print (tuple_2)\n",
        "tuple_1[0] = 'Chemistry'\n",
        "print (tuple_1)\n",
        "print (tuple_2)\n"
      ],
      "metadata": {
        "colab": {
          "base_uri": "https://localhost:8080/"
        },
        "id": "HLeIKyvFQTQC",
        "outputId": "39684905-d750-4c88-b64f-a94684fb3cf1"
      },
      "execution_count": null,
      "outputs": [
        {
          "output_type": "stream",
          "name": "stdout",
          "text": [
            "['Bangla', 'English', 'Math', 'CompSci', 'Physics', 'Art']\n",
            "['Bangla', 'English', 'Math', 'CompSci', 'Physics', 'Art']\n",
            "['Chemistry', 'English', 'Math', 'CompSci', 'Physics', 'Art']\n",
            "['Chemistry', 'English', 'Math', 'CompSci', 'Physics', 'Art']\n"
          ]
        }
      ]
    },
    {
      "cell_type": "code",
      "source": [
        "#Sets example\n",
        "cs_courses = {'English', 'Math', 'CompSci', 'Physics', 'Math'}\n",
        "print(cs_courses)\n",
        "print ('Math' in cs_courses)\n",
        "\n",
        "#Find common between two sets\n",
        "cs_courses = {'English', 'Math', 'CompSci', 'Physics'}\n",
        "art_courses = {'English', 'Math', 'Art', 'Design'}\n",
        "print(cs_courses.intersection(art_courses))\n",
        "print(cs_courses.difference(art_courses))\n",
        "print(cs_courses.union(art_courses))"
      ],
      "metadata": {
        "colab": {
          "base_uri": "https://localhost:8080/"
        },
        "id": "upBnAYHARsPp",
        "outputId": "5d8d41cc-fb32-49a2-9579-a303ca16fb26"
      },
      "execution_count": null,
      "outputs": [
        {
          "output_type": "stream",
          "name": "stdout",
          "text": [
            "{'Physics', 'CompSci', 'Math', 'English'}\n",
            "True\n",
            "{'Math', 'English'}\n",
            "{'CompSci', 'Physics'}\n",
            "{'Math', 'English', 'Physics', 'Design', 'Art', 'CompSci'}\n"
          ]
        }
      ]
    },
    {
      "cell_type": "code",
      "source": [
        "#Empty list\n",
        "empty_list = []\n",
        "empty_list = list()\n",
        "#Empty tuple\n",
        "empty_tuple = []\n",
        "empty_tuple = tuple()\n",
        "#Empty sets\n",
        "empty_set = set()\n",
        "#Empty dictionary\n",
        "empty_set = []"
      ],
      "metadata": {
        "id": "lSNkJ7A1D5a6"
      },
      "execution_count": null,
      "outputs": []
    },
    {
      "cell_type": "code",
      "source": [
        "#Dictionaries - Working with Key-Value Pairs\n",
        "student = {'name':'Ramisa', 'age': 25, 'course': ['Math','Compsci']}\n",
        "print(student['course'])\n",
        "print(student.get('name'))\n",
        "print(student.get('phone'))\n",
        "print(student.get('phone','Not found'))\n",
        "student['phone'] ='55-555-555'\n",
        "print(student.get('phone','Not found'))\n",
        "#update\n",
        "student.update ({'name':'Farha', 'age':18})\n",
        "print(student)"
      ],
      "metadata": {
        "colab": {
          "base_uri": "https://localhost:8080/"
        },
        "id": "sUDL6WlbE3gO",
        "outputId": "2d783a7b-0c83-4203-9985-f9294666c5e8"
      },
      "execution_count": null,
      "outputs": [
        {
          "output_type": "stream",
          "name": "stdout",
          "text": [
            "['Math', 'Compsci']\n",
            "Ramisa\n",
            "None\n",
            "Not found\n",
            "55-555-555\n",
            "{'name': 'Farha', 'age': 18, 'course': ['Math', 'Compsci'], 'phone': '55-555-555'}\n"
          ]
        }
      ]
    },
    {
      "cell_type": "code",
      "source": [
        "#delete a key\n",
        "student = {'name':'Ramisa', 'age': 25, 'course': ['Math','Compsci']}\n",
        "del student ['age']\n",
        "print(student)\n",
        "\n",
        "student = {'name':'Ramisa', 'age': 25, 'course': ['Math','Compsci']}\n",
        "age = student.pop('age')\n",
        "print (age)\n",
        "\n",
        "#find length\n",
        "student = {'name':'Ramisa', 'age': 25, 'course': ['Math','Compsci']}\n",
        "print(len(student))\n",
        "print(student.keys())\n",
        "print(student.values())\n",
        "print(student.items())\n",
        "\n",
        "#loop\n",
        "for key in student:\n",
        "  print(key)\n",
        "for key,value in student.items():\n",
        "  print(key,value)"
      ],
      "metadata": {
        "colab": {
          "base_uri": "https://localhost:8080/"
        },
        "id": "x9mpaQaEsy6Q",
        "outputId": "788ffde3-f8c8-4206-c625-f916d3ad3ac7"
      },
      "execution_count": null,
      "outputs": [
        {
          "output_type": "stream",
          "name": "stdout",
          "text": [
            "{'name': 'Ramisa', 'course': ['Math', 'Compsci']}\n",
            "25\n",
            "3\n",
            "dict_keys(['name', 'age', 'course'])\n",
            "dict_values(['Ramisa', 25, ['Math', 'Compsci']])\n",
            "dict_items([('name', 'Ramisa'), ('age', 25), ('course', ['Math', 'Compsci'])])\n",
            "name\n",
            "age\n",
            "course\n",
            "name Ramisa\n",
            "age 25\n",
            "course ['Math', 'Compsci']\n"
          ]
        }
      ]
    },
    {
      "cell_type": "markdown",
      "source": [
        "## Conditionals and Booleans - If, Else, and Elif Statements"
      ],
      "metadata": {
        "id": "GO_-v0RTwX90"
      }
    },
    {
      "cell_type": "code",
      "source": [
        "#equal == not equal != greater or equal >= greater > less < less or equal <=\n",
        "#odject identify : is\n",
        "language = 'java'\n",
        "if language == 'python':\n",
        "  print('Language is python')\n",
        "elif language == 'java':\n",
        "  print('The language is java')\n",
        "else:\n",
        "  print('No match')"
      ],
      "metadata": {
        "colab": {
          "base_uri": "https://localhost:8080/"
        },
        "id": "Zs5axTr2vUi9",
        "outputId": "46338ce2-7498-414a-cc71-ad7db302600f"
      },
      "execution_count": null,
      "outputs": [
        {
          "output_type": "stream",
          "name": "stdout",
          "text": [
            "The language is java\n"
          ]
        }
      ]
    },
    {
      "cell_type": "code",
      "source": [
        "#boolean and,or,not\n",
        "user = 'Admin'\n",
        "logged_in = True\n",
        "if user == 'Admin' and logged_in:\n",
        "  print('Admin page')\n",
        "else:\n",
        "  print('Bad credentials')\n",
        "\n",
        "user = 'Admin'\n",
        "logged_in = False\n",
        "if user == 'Admin' and logged_in:\n",
        "  print('Admin page')\n",
        "else:\n",
        "  print('Bad credentials')"
      ],
      "metadata": {
        "id": "iRMXMcb7x9t7",
        "colab": {
          "base_uri": "https://localhost:8080/"
        },
        "outputId": "2d975c43-1de9-454f-f6de-430011c52391"
      },
      "execution_count": null,
      "outputs": [
        {
          "output_type": "stream",
          "name": "stdout",
          "text": [
            "Admin page\n",
            "Bad credentials\n"
          ]
        }
      ]
    },
    {
      "cell_type": "code",
      "source": [
        "#or\n",
        "user = 'Admin'\n",
        "logged_in = False\n",
        "if user == 'Admin' or logged_in:\n",
        "  print('Admin page')\n",
        "else:\n",
        "  print('Bad credentials')"
      ],
      "metadata": {
        "id": "-5yD0Fi0nqSD",
        "colab": {
          "base_uri": "https://localhost:8080/"
        },
        "outputId": "1b1386e1-7f7e-4fe6-e621-07d575f92708"
      },
      "execution_count": null,
      "outputs": [
        {
          "output_type": "stream",
          "name": "stdout",
          "text": [
            "Admin page\n"
          ]
        }
      ]
    },
    {
      "cell_type": "code",
      "source": [
        "#Not\n",
        "user = 'Admin'\n",
        "logged_in = False\n",
        "if not logged_in:\n",
        "  print('Please log in')\n",
        "else:\n",
        "  print('Welcome')"
      ],
      "metadata": {
        "colab": {
          "base_uri": "https://localhost:8080/"
        },
        "id": "R8t1Usy68gKR",
        "outputId": "94260a45-2965-45d4-c2fa-f310b3018003"
      },
      "execution_count": null,
      "outputs": [
        {
          "output_type": "stream",
          "name": "stdout",
          "text": [
            "Please log in\n"
          ]
        }
      ]
    },
    {
      "cell_type": "code",
      "source": [
        "a = [1,2,3]\n",
        "b = [1,2,3]\n",
        "print(a==b)\n",
        "print (a is b)\n",
        "print(id(a))\n",
        "print(id(b))\n"
      ],
      "metadata": {
        "colab": {
          "base_uri": "https://localhost:8080/"
        },
        "id": "cnhaBwmm9Lr3",
        "outputId": "0c7edfc8-c81e-4120-b4ec-dfd4dd0002c8"
      },
      "execution_count": null,
      "outputs": [
        {
          "output_type": "stream",
          "name": "stdout",
          "text": [
            "True\n",
            "False\n",
            "136305725863936\n",
            "136306717976384\n"
          ]
        }
      ]
    },
    {
      "cell_type": "code",
      "source": [
        "a = [1,2,3]\n",
        "a = b\n",
        "print(a==b)\n",
        "print (a is b)\n",
        "print(id(a))\n",
        "print(id(b))\n"
      ],
      "metadata": {
        "colab": {
          "base_uri": "https://localhost:8080/"
        },
        "id": "bas4ja-o9pB4",
        "outputId": "5cdae1e8-6d12-4878-d932-2ade86018e9f"
      },
      "execution_count": null,
      "outputs": [
        {
          "output_type": "stream",
          "name": "stdout",
          "text": [
            "True\n",
            "True\n",
            "136306717976384\n",
            "136306717976384\n"
          ]
        }
      ]
    },
    {
      "cell_type": "code",
      "source": [
        "#False values\n",
        "#False\n",
        "condition = False\n",
        "if condition:\n",
        "  print (\"Evaluated to True\")\n",
        "else:\n",
        "  print (\"Evaluated to False\")\n",
        "#None\n",
        "condition = None\n",
        "if condition:\n",
        "  print (\"Evaluated to True\")\n",
        "else:\n",
        "  print (\"Evaluated to False\")\n",
        "#Zero of any numeric type\n",
        "#zero = false\n",
        "condition = 0\n",
        "if condition:\n",
        "  print (\"Evaluated to True\")\n",
        "else:\n",
        "  print (\"Evaluated to False\")\n",
        "#any number= true\n",
        "condition = 10\n",
        "if condition:\n",
        "  print (\"Evaluated to True\")\n",
        "else:\n",
        "  print (\"Evaluated to False\")\n",
        "#Any empty sepuence  ex.' ' , [], ()\n",
        "condition = []\n",
        "if condition:\n",
        "  print (\"Evaluated to True\")\n",
        "else:\n",
        "  print (\"Evaluated to False\")\n",
        "#Any empty mapping/dictonary ex. {}\n",
        "condition = {}\n",
        "if condition:\n",
        "  print (\"Evaluated to True\")\n",
        "else:\n",
        "  print (\"Evaluated to False\")\n",
        "#Everything else will be true\n",
        "condition = True\n",
        "if condition:\n",
        "  print (\"Evaluated to True\")\n",
        "else:\n",
        "  print (\"Evaluated to False\")\n",
        "#Any NOT empty sepuence  ex.' ' , [], ()\n",
        "condition = ['Test']\n",
        "if condition:\n",
        "  print (\"Evaluated to True\")\n",
        "else:\n",
        "  print (\"Evaluated to False\")\n"
      ],
      "metadata": {
        "colab": {
          "base_uri": "https://localhost:8080/"
        },
        "id": "kMu3qqT3txrV",
        "outputId": "acafb952-58d8-472f-de37-dbb8adccf0ef"
      },
      "execution_count": null,
      "outputs": [
        {
          "output_type": "stream",
          "name": "stdout",
          "text": [
            "Evaluated to False\n",
            "Evaluated to False\n",
            "Evaluated to False\n",
            "Evaluated to True\n",
            "Evaluated to False\n",
            "Evaluated to False\n",
            "Evaluated to True\n",
            "Evaluated to True\n"
          ]
        }
      ]
    },
    {
      "cell_type": "markdown",
      "source": [
        "##Loops and Iterations - For/While Loops"
      ],
      "metadata": {
        "id": "7ikqL_xMu6-s"
      }
    },
    {
      "cell_type": "code",
      "source": [
        "nums = [1,2,3,4,5]\n",
        "for num in nums:\n",
        "  print(num)"
      ],
      "metadata": {
        "colab": {
          "base_uri": "https://localhost:8080/"
        },
        "id": "8hLcxMlru_wP",
        "outputId": "ecfa1cc2-10ae-45f7-b133-761e763e9f61"
      },
      "execution_count": null,
      "outputs": [
        {
          "output_type": "stream",
          "name": "stdout",
          "text": [
            "1\n",
            "2\n",
            "3\n",
            "4\n",
            "5\n"
          ]
        }
      ]
    },
    {
      "cell_type": "code",
      "source": [
        "#Break\n",
        "nums = [1,2,3,4,5]\n",
        "for num in nums:\n",
        "  if num == 3:\n",
        "    print(\"Found it!\")\n",
        "    break\n",
        "  print(num)\n",
        "#Continue\n",
        "nums = [1,2,3,4,5]\n",
        "for num in nums:\n",
        "  if num == 3:\n",
        "    print(\"Found it!\")\n",
        "    continue\n",
        "  print(num)"
      ],
      "metadata": {
        "colab": {
          "base_uri": "https://localhost:8080/"
        },
        "id": "YXhQT4mgv_sR",
        "outputId": "7a630481-e37c-4846-9248-a5de5ee3659c"
      },
      "execution_count": null,
      "outputs": [
        {
          "output_type": "stream",
          "name": "stdout",
          "text": [
            "1\n",
            "2\n",
            "Found it!\n",
            "1\n",
            "2\n",
            "Found it!\n",
            "4\n",
            "5\n"
          ]
        }
      ]
    },
    {
      "cell_type": "code",
      "source": [
        "#Loop in a loop\n",
        "nums = [1,2,3,4,5]\n",
        "for num in nums:\n",
        "  for letter in 'abc':\n",
        "    print (num , letter)"
      ],
      "metadata": {
        "colab": {
          "base_uri": "https://localhost:8080/"
        },
        "id": "NZObS3g6wyya",
        "outputId": "c07c03ff-dc78-4f79-871e-06ca33b79ad7"
      },
      "execution_count": null,
      "outputs": [
        {
          "output_type": "stream",
          "name": "stdout",
          "text": [
            "1 a\n",
            "1 b\n",
            "1 c\n",
            "2 a\n",
            "2 b\n",
            "2 c\n",
            "3 a\n",
            "3 b\n",
            "3 c\n",
            "4 a\n",
            "4 b\n",
            "4 c\n",
            "5 a\n",
            "5 b\n",
            "5 c\n"
          ]
        }
      ]
    },
    {
      "cell_type": "code",
      "source": [
        "#Range\n",
        "for i in range (10):\n",
        "  print(i)\n",
        "\n",
        "  #Range\n",
        "for i in range (1, 11):\n",
        "  print(i)"
      ],
      "metadata": {
        "colab": {
          "base_uri": "https://localhost:8080/"
        },
        "id": "w4TBhWL_xbH5",
        "outputId": "a6e2ca3a-1c11-4eca-9b5d-c423f5842868"
      },
      "execution_count": null,
      "outputs": [
        {
          "output_type": "stream",
          "name": "stdout",
          "text": [
            "0\n",
            "1\n",
            "2\n",
            "3\n",
            "4\n",
            "5\n",
            "6\n",
            "7\n",
            "8\n",
            "9\n",
            "1\n",
            "2\n",
            "3\n",
            "4\n",
            "5\n",
            "6\n",
            "7\n",
            "8\n",
            "9\n",
            "10\n"
          ]
        }
      ]
    },
    {
      "cell_type": "code",
      "source": [
        "#While\n",
        "x = 0\n",
        "while x < 10:\n",
        "  if x == 5:\n",
        "    break\n",
        "  print(x)\n",
        "  x += 1"
      ],
      "metadata": {
        "colab": {
          "base_uri": "https://localhost:8080/"
        },
        "id": "GJODRXgK2-SM",
        "outputId": "493276cc-2574-4259-cd6f-a19a301588c5"
      },
      "execution_count": null,
      "outputs": [
        {
          "output_type": "stream",
          "name": "stdout",
          "text": [
            "0\n",
            "1\n",
            "2\n",
            "3\n",
            "4\n"
          ]
        }
      ]
    },
    {
      "cell_type": "markdown",
      "source": [
        "##Functions"
      ],
      "metadata": {
        "id": "DpmgLNx94ONH"
      }
    },
    {
      "cell_type": "code",
      "source": [
        "#define a empty function\n",
        "def hello_func():\n",
        "  pass\n",
        "print(hello_func())\n",
        "\n",
        "#Execute func\n",
        "def hello_func():\n",
        "  print (\"Hello function!\")\n",
        "hello_func()\n",
        "\n",
        "#Printing many times but using func\n",
        "def hello_func():\n",
        "  print (\"Hello function.\")\n",
        "hello_func()\n",
        "hello_func()\n",
        "hello_func()\n",
        "hello_func()"
      ],
      "metadata": {
        "id": "gEt-m2Lg4RYK",
        "colab": {
          "base_uri": "https://localhost:8080/"
        },
        "outputId": "acf876f9-47ed-4f5f-c81b-5a129bff5da0"
      },
      "execution_count": null,
      "outputs": [
        {
          "output_type": "stream",
          "name": "stdout",
          "text": [
            "None\n",
            "Hello function!\n",
            "Hello function.\n",
            "Hello function.\n",
            "Hello function.\n",
            "Hello function.\n"
          ]
        }
      ]
    },
    {
      "cell_type": "code",
      "source": [
        "#Return a string\n",
        "def hello_func():\n",
        "  return 'Hello World'\n",
        "print(hello_func())\n",
        "print(hello_func().upper())"
      ],
      "metadata": {
        "colab": {
          "base_uri": "https://localhost:8080/"
        },
        "id": "085R4J0Q3z2A",
        "outputId": "9cb60925-0430-41b4-9367-a6ece5d19200"
      },
      "execution_count": null,
      "outputs": [
        {
          "output_type": "stream",
          "name": "stdout",
          "text": [
            "Hello World\n",
            "HELLO WORLD\n"
          ]
        }
      ]
    },
    {
      "cell_type": "code",
      "source": [
        "#Using parameter\n",
        "def hello_func(greeting):\n",
        "  return '{} Function!'.format(greeting)\n",
        "print(hello_func('Hi'))\n"
      ],
      "metadata": {
        "colab": {
          "base_uri": "https://localhost:8080/"
        },
        "id": "JCYutbcF4vcw",
        "outputId": "bda70714-3ddd-412d-f5a2-8033ce9f236e"
      },
      "execution_count": null,
      "outputs": [
        {
          "output_type": "stream",
          "name": "stdout",
          "text": [
            "Hi Function!\n"
          ]
        }
      ]
    },
    {
      "cell_type": "code",
      "source": [
        "def function():\n",
        "  print('Ahhhh')\n",
        "  print('Eeeee')\n",
        "print('This is outside the function')"
      ],
      "metadata": {
        "colab": {
          "base_uri": "https://localhost:8080/"
        },
        "id": "VsDp3Hv--b6m",
        "outputId": "d06e264c-1421-4eca-819a-52871fa6d9da"
      },
      "execution_count": null,
      "outputs": [
        {
          "output_type": "stream",
          "name": "stdout",
          "text": [
            "This is outside the function\n"
          ]
        }
      ]
    },
    {
      "cell_type": "code",
      "source": [
        "#mapping a function with input x\n",
        "def function2(x):\n",
        "  return x*2\n",
        "a = function2(3)\n",
        "#return output\n",
        "print(a)\n",
        "b = function2(9)\n",
        "print(b)\n",
        "c = function2(4)\n",
        "print(c)"
      ],
      "metadata": {
        "colab": {
          "base_uri": "https://localhost:8080/"
        },
        "id": "AxzeX5Y0xIv3",
        "outputId": "c872995f-bfd7-4f55-b8a3-45f5961cbee7"
      },
      "execution_count": null,
      "outputs": [
        {
          "output_type": "stream",
          "name": "stdout",
          "text": [
            "6\n",
            "18\n",
            "8\n"
          ]
        }
      ]
    },
    {
      "cell_type": "code",
      "source": [
        "#multiple arguments in a single function\n",
        "def function3(x, y, z):\n",
        "  return x+y+z\n",
        "p= function3(1,4,6)\n",
        "print(p)"
      ],
      "metadata": {
        "colab": {
          "base_uri": "https://localhost:8080/"
        },
        "id": "Bawg4UXfx_T-",
        "outputId": "b714c77c-c06b-4f89-cd0c-16172cfa6ada"
      },
      "execution_count": null,
      "outputs": [
        {
          "output_type": "stream",
          "name": "stdout",
          "text": [
            "11\n"
          ]
        }
      ]
    },
    {
      "cell_type": "code",
      "source": [
        "#Function example\n",
        "def function4(x):\n",
        "  print (x)\n",
        "  print('still in function')\n",
        "  return 3*x\n",
        "a = function4(5)\n",
        "print(a)\n",
        "#Function without a return value\n",
        "def function5(some_argument):\n",
        "  print(some_argument)\n",
        "  print('Yess!')\n",
        "function5(10)"
      ],
      "metadata": {
        "colab": {
          "base_uri": "https://localhost:8080/"
        },
        "id": "aaT5YLQKy6Jj",
        "outputId": "3e20625c-83c9-4e8e-dcf5-aa789562c5c8"
      },
      "execution_count": null,
      "outputs": [
        {
          "output_type": "stream",
          "name": "stdout",
          "text": [
            "5\n",
            "still in function\n",
            "15\n",
            "10\n",
            "Yess!\n"
          ]
        }
      ]
    },
    {
      "cell_type": "code",
      "source": [
        "#BMI calculator\n",
        "name1 = 'Rami'\n",
        "height_m1 = 1.6764\n",
        "weight1= 74\n",
        "\n",
        "name2 = 'Fari'\n",
        "height_m2 = 1.6764\n",
        "weight2= 70\n",
        "\n",
        "name3 = 'Mahi'\n",
        "height_m3 = 1.6764\n",
        "weight3= 68\n",
        "\n",
        "def bmi_calculator(name, height_m, weight):\n",
        "  bmi = weight/(height_m ** 2)\n",
        "  print('bmi: ')\n",
        "  print(bmi)\n",
        "  if bmi < 25:\n",
        "    return name + ' is not overweight'\n",
        "  else:\n",
        "    return name + ' is overweight'\n",
        "\n",
        "result1 = bmi_calculator(name1, height_m1, weight1)\n",
        "result2 = bmi_calculator(name2, height_m2, weight2)\n",
        "result3 = bmi_calculator(name3, height_m3, weight3)\n",
        "print(result1)\n",
        "print(result2)\n",
        "print(result3)"
      ],
      "metadata": {
        "colab": {
          "base_uri": "https://localhost:8080/"
        },
        "id": "lIagY7WQ0PcO",
        "outputId": "f6a46691-884b-443c-cc34-29093bb22820"
      },
      "execution_count": null,
      "outputs": [
        {
          "output_type": "stream",
          "name": "stdout",
          "text": [
            "bmi: \n",
            "26.331549449141143\n",
            "bmi: \n",
            "24.908222451890268\n",
            "bmi: \n",
            "24.196558953264834\n",
            "Rami is overweight\n",
            "Fari is not overweight\n",
            "Mahi is not overweight\n"
          ]
        }
      ]
    },
    {
      "cell_type": "code",
      "source": [
        "#km converts to miles\n",
        "#formula km = 1.6 * miles\n",
        "def convert(miles):\n",
        "  km = 1.6 * miles\n",
        "  return km\n",
        "\n",
        "km_in_miles1 = 10\n",
        "km_in_miles2 = 4\n",
        "km_in_miles3 = 5\n",
        "\n",
        "km1 = convert(km_in_miles1)\n",
        "km2 = convert(km_in_miles2)\n",
        "km3 = convert(km_in_miles3)\n",
        "\n",
        "print('10 miles in km:', km1)\n",
        "print('4 miles in km:', km2)\n",
        "print('5 miles in km:', km3)\n"
      ],
      "metadata": {
        "colab": {
          "base_uri": "https://localhost:8080/"
        },
        "id": "PzyGd2L06c2r",
        "outputId": "a462345a-48cb-4a0e-b81c-9a8ef0e7f8a9"
      },
      "execution_count": null,
      "outputs": [
        {
          "output_type": "stream",
          "name": "stdout",
          "text": [
            "10 miles in km: 16.0\n",
            "4 miles in km: 6.4\n",
            "5 miles in km: 8.0\n"
          ]
        }
      ]
    },
    {
      "cell_type": "markdown",
      "source": [
        "# Operator\tMeaning\tExample\n",
        "*And* - True if all operands are True;\n",
        "*Or* - True if any operand is True;\n",
        "*Not* - True if the operand is False\n",
        "\n"
      ],
      "metadata": {
        "id": "zkGh6qV4ySFK"
      }
    },
    {
      "cell_type": "code",
      "source": [
        "#Check if the inputted number is odd or even\n",
        "num = int(input('Enter a number: '))\n",
        "if num/2:\n",
        "  print ('The number is Even')\n",
        "else:\n",
        "  print('The number is Odd')"
      ],
      "metadata": {
        "id": "xw8oVgHqyfUq",
        "colab": {
          "base_uri": "https://localhost:8080/"
        },
        "outputId": "e78bc1c0-2d8a-496b-acc7-79d13e4593cd"
      },
      "execution_count": null,
      "outputs": [
        {
          "output_type": "stream",
          "name": "stdout",
          "text": [
            "Enter a number: 23\n",
            "The number is Even\n"
          ]
        }
      ]
    },
    {
      "cell_type": "code",
      "source": [
        "#Ask for a dish name and print the cuisine\n",
        "Bangladeshi = ['Bhaat','Dal','Dim']\n",
        "Chinese = ['Chicken','Fried rice']\n",
        "Italian = ['Pizza', 'Pasta']\n",
        "dish = str(input('Enter a dish name: '))\n",
        "if dish in Bangladeshi:\n",
        "  print('Bangladeshi Food!')\n",
        "elif dish in Chinese:\n",
        "  print('Chinese Food')\n",
        "elif  dish in Italian:\n",
        "  print('Italian Food')\n",
        "else:\n",
        "  print('Sorry! Idk which dish is', dish)"
      ],
      "metadata": {
        "colab": {
          "base_uri": "https://localhost:8080/"
        },
        "id": "TvW8v-a0iqgo",
        "outputId": "58878aef-3072-4f32-d6ee-71e922ed2f79"
      },
      "execution_count": null,
      "outputs": [
        {
          "output_type": "stream",
          "name": "stdout",
          "text": [
            "Enter a dish name: dal\n",
            "Sorry! Idk which dish is dal\n"
          ]
        }
      ]
    },
    {
      "cell_type": "code",
      "source": [
        "#Sum of numbers in loop\n",
        "numbers = [123,345,678,191,1222,334,223]\n",
        "sum = 0\n",
        "for item in numbers:\n",
        "  sum = sum + item\n",
        "print(sum)"
      ],
      "metadata": {
        "colab": {
          "base_uri": "https://localhost:8080/"
        },
        "id": "lx5-rI6Vq5VE",
        "outputId": "b83e7003-318e-462f-af35-5c1132b49956"
      },
      "execution_count": null,
      "outputs": [
        {
          "output_type": "stream",
          "name": "stdout",
          "text": [
            "3116\n"
          ]
        }
      ]
    },
    {
      "cell_type": "code",
      "source": [
        "#Monthy expense\n",
        "exp = [1000,2000,3000,4000,5000]\n",
        "total = 0\n",
        "for i in range(len(exp)):\n",
        "  print('Month-',(i+1), 'Expense:', exp[i])\n",
        "  total = total + exp[i]\n",
        "print('Total expense is:', total)"
      ],
      "metadata": {
        "colab": {
          "base_uri": "https://localhost:8080/"
        },
        "id": "46iNRGIeuVv6",
        "outputId": "3365a1ae-a794-4014-d926-2a59aba98cb9"
      },
      "execution_count": null,
      "outputs": [
        {
          "output_type": "stream",
          "name": "stdout",
          "text": [
            "Month- 1 Expense: 1000\n",
            "Month- 2 Expense: 2000\n",
            "Month- 3 Expense: 3000\n",
            "Month- 4 Expense: 4000\n",
            "Month- 5 Expense: 5000\n",
            "Total expense is: 15000\n"
          ]
        }
      ]
    },
    {
      "cell_type": "code",
      "source": [
        "#take two list and find the total\n",
        "Rami_exp_list =[100,300,5100]\n",
        "Fari_exp_list =[200,4000,500]\n",
        "total = 0\n",
        "for item in Rami_exp_list:\n",
        "  total = total+item\n",
        "print ('Rami total exp list is: ',total)\n",
        "total = 0\n",
        "for item in Fari_exp_list:\n",
        "  total = total+item\n",
        "print ('Fari total exp list is: ',total)\n",
        "\n",
        "#using function\n"
      ],
      "metadata": {
        "colab": {
          "base_uri": "https://localhost:8080/"
        },
        "id": "fgZfPVbaCM4s",
        "outputId": "0f4693d3-9262-48cf-f8b8-6171d7c56cfd"
      },
      "execution_count": null,
      "outputs": [
        {
          "output_type": "stream",
          "name": "stdout",
          "text": [
            "Rami total exp list is:  5500\n",
            "Fari total exp list is:  4700\n"
          ]
        }
      ]
    },
    {
      "cell_type": "code",
      "source": [
        "#Write a program that receives one input, an integer, calculates the factorial of the input and prints it.\n",
        "n = int(input())\n",
        "fac = 1\n",
        "for i in range(1,n+1):\n",
        "  fac = fac*i\n",
        "print(fac)"
      ],
      "metadata": {
        "colab": {
          "base_uri": "https://localhost:8080/"
        },
        "id": "GtXv_J1YSMFp",
        "outputId": "c9536d1c-e410-4dbb-875a-32fd63449dcd"
      },
      "execution_count": null,
      "outputs": [
        {
          "output_type": "stream",
          "name": "stdout",
          "text": [
            "5\n",
            "120\n"
          ]
        }
      ]
    },
    {
      "cell_type": "code",
      "source": [
        "#Write a program that gets a dynamic number of input values.\n",
        "#The first input is a number that represents the number of the input values following it. The next input values are whole numbers.\n",
        "#In the end, print the sum of all the input numbers (not including the first input).\n",
        "n=int(input())\n",
        "res = 0\n",
        "for i in range(n):\n",
        "  a= int(input())\n",
        "  res = res+a\n",
        "print(res)"
      ],
      "metadata": {
        "colab": {
          "base_uri": "https://localhost:8080/"
        },
        "id": "dxU2-GvVjPwO",
        "outputId": "89b7f85d-4676-4bcc-d177-fab4c6c93f39"
      },
      "execution_count": null,
      "outputs": [
        {
          "output_type": "stream",
          "name": "stdout",
          "text": [
            "3\n",
            "1\n",
            "5\n",
            "6\n",
            "12\n"
          ]
        }
      ]
    },
    {
      "cell_type": "code",
      "source": [
        "#Create a program to execute a function, determined by user input, which calculates and prints the sum of numbers from 1 to 10000.\n",
        "def sum_numbers():\n",
        "    total_sum = 0\n",
        "\n",
        "    # Loop through numbers from 1 to 10000 (inclusive) and calculate the sum\n",
        "    for number in range(1, 10001):\n",
        "        total_sum += number\n",
        "\n",
        "    return total_sum  # Return the calculated sum\n",
        "\n",
        "n = int(input(\"Enter the number of times to execute the function: \"))  # Get user input for 'n'\n",
        "\n",
        "# Execute the function 'sum_numbers()' 'n' times\n",
        "for i in range(n):\n",
        "    result = sum_numbers()  # Call the function 'sum_numbers()'\n",
        "    print(result)  # Print the result"
      ],
      "metadata": {
        "id": "lI032sWFxcvG",
        "colab": {
          "base_uri": "https://localhost:8080/"
        },
        "outputId": "8536f750-4031-4ae4-c86f-1c7db46d2c3a"
      },
      "execution_count": 3,
      "outputs": [
        {
          "output_type": "stream",
          "name": "stdout",
          "text": [
            "Enter the number of times to execute the function: 4\n",
            "50005000\n",
            "50005000\n",
            "50005000\n",
            "50005000\n"
          ]
        }
      ]
    }
  ]
}